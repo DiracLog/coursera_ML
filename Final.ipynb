{
 "cells": [
  {
   "cell_type": "code",
   "execution_count": 320,
   "metadata": {},
   "outputs": [],
   "source": [
    "import pandas as pd\n",
    "from sklearn.model_selection import KFold\n",
    "from sklearn.ensemble import GradientBoostingClassifier\n",
    "from sklearn.metrics import roc_auc_score\n",
    "import time\n",
    "import numpy as np\n",
    "from sklearn.preprocessing import StandardScaler\n",
    "from sklearn.linear_model import LogisticRegression\n",
    "from sklearn.model_selection import train_test_split"
   ]
  },
  {
   "cell_type": "code",
   "execution_count": 321,
   "metadata": {},
   "outputs": [],
   "source": [
    "path_to_data = \"C:/study/data/\""
   ]
  },
  {
   "cell_type": "code",
   "execution_count": 322,
   "metadata": {},
   "outputs": [],
   "source": [
    "df = pd.read_csv(path_to_data + \"features.csv\")"
   ]
  },
  {
   "cell_type": "code",
   "execution_count": 323,
   "metadata": {},
   "outputs": [
    {
     "data": {
      "text/html": [
       "<div>\n",
       "<style scoped>\n",
       "    .dataframe tbody tr th:only-of-type {\n",
       "        vertical-align: middle;\n",
       "    }\n",
       "\n",
       "    .dataframe tbody tr th {\n",
       "        vertical-align: top;\n",
       "    }\n",
       "\n",
       "    .dataframe thead th {\n",
       "        text-align: right;\n",
       "    }\n",
       "</style>\n",
       "<table border=\"1\" class=\"dataframe\">\n",
       "  <thead>\n",
       "    <tr style=\"text-align: right;\">\n",
       "      <th></th>\n",
       "      <th>match_id</th>\n",
       "      <th>start_time</th>\n",
       "      <th>lobby_type</th>\n",
       "      <th>r1_hero</th>\n",
       "      <th>r1_level</th>\n",
       "      <th>r1_xp</th>\n",
       "      <th>r1_gold</th>\n",
       "      <th>r1_lh</th>\n",
       "      <th>r1_kills</th>\n",
       "      <th>r1_deaths</th>\n",
       "      <th>...</th>\n",
       "      <th>dire_boots_count</th>\n",
       "      <th>dire_ward_observer_count</th>\n",
       "      <th>dire_ward_sentry_count</th>\n",
       "      <th>dire_first_ward_time</th>\n",
       "      <th>duration</th>\n",
       "      <th>radiant_win</th>\n",
       "      <th>tower_status_radiant</th>\n",
       "      <th>tower_status_dire</th>\n",
       "      <th>barracks_status_radiant</th>\n",
       "      <th>barracks_status_dire</th>\n",
       "    </tr>\n",
       "  </thead>\n",
       "  <tbody>\n",
       "    <tr>\n",
       "      <th>0</th>\n",
       "      <td>0</td>\n",
       "      <td>1430198770</td>\n",
       "      <td>7</td>\n",
       "      <td>11</td>\n",
       "      <td>5</td>\n",
       "      <td>2098</td>\n",
       "      <td>1489</td>\n",
       "      <td>20</td>\n",
       "      <td>0</td>\n",
       "      <td>0</td>\n",
       "      <td>...</td>\n",
       "      <td>4</td>\n",
       "      <td>2</td>\n",
       "      <td>2</td>\n",
       "      <td>-52.0</td>\n",
       "      <td>2874</td>\n",
       "      <td>1</td>\n",
       "      <td>1796</td>\n",
       "      <td>0</td>\n",
       "      <td>51</td>\n",
       "      <td>0</td>\n",
       "    </tr>\n",
       "    <tr>\n",
       "      <th>1</th>\n",
       "      <td>1</td>\n",
       "      <td>1430220345</td>\n",
       "      <td>0</td>\n",
       "      <td>42</td>\n",
       "      <td>4</td>\n",
       "      <td>1188</td>\n",
       "      <td>1033</td>\n",
       "      <td>9</td>\n",
       "      <td>0</td>\n",
       "      <td>1</td>\n",
       "      <td>...</td>\n",
       "      <td>4</td>\n",
       "      <td>3</td>\n",
       "      <td>1</td>\n",
       "      <td>-5.0</td>\n",
       "      <td>2463</td>\n",
       "      <td>1</td>\n",
       "      <td>1974</td>\n",
       "      <td>0</td>\n",
       "      <td>63</td>\n",
       "      <td>1</td>\n",
       "    </tr>\n",
       "    <tr>\n",
       "      <th>2</th>\n",
       "      <td>2</td>\n",
       "      <td>1430227081</td>\n",
       "      <td>7</td>\n",
       "      <td>33</td>\n",
       "      <td>4</td>\n",
       "      <td>1319</td>\n",
       "      <td>1270</td>\n",
       "      <td>22</td>\n",
       "      <td>0</td>\n",
       "      <td>0</td>\n",
       "      <td>...</td>\n",
       "      <td>4</td>\n",
       "      <td>3</td>\n",
       "      <td>1</td>\n",
       "      <td>13.0</td>\n",
       "      <td>2130</td>\n",
       "      <td>0</td>\n",
       "      <td>0</td>\n",
       "      <td>1830</td>\n",
       "      <td>0</td>\n",
       "      <td>63</td>\n",
       "    </tr>\n",
       "    <tr>\n",
       "      <th>3</th>\n",
       "      <td>3</td>\n",
       "      <td>1430263531</td>\n",
       "      <td>1</td>\n",
       "      <td>29</td>\n",
       "      <td>4</td>\n",
       "      <td>1779</td>\n",
       "      <td>1056</td>\n",
       "      <td>14</td>\n",
       "      <td>0</td>\n",
       "      <td>0</td>\n",
       "      <td>...</td>\n",
       "      <td>4</td>\n",
       "      <td>2</td>\n",
       "      <td>0</td>\n",
       "      <td>27.0</td>\n",
       "      <td>1459</td>\n",
       "      <td>0</td>\n",
       "      <td>1920</td>\n",
       "      <td>2047</td>\n",
       "      <td>50</td>\n",
       "      <td>63</td>\n",
       "    </tr>\n",
       "    <tr>\n",
       "      <th>4</th>\n",
       "      <td>4</td>\n",
       "      <td>1430282290</td>\n",
       "      <td>7</td>\n",
       "      <td>13</td>\n",
       "      <td>4</td>\n",
       "      <td>1431</td>\n",
       "      <td>1090</td>\n",
       "      <td>8</td>\n",
       "      <td>1</td>\n",
       "      <td>0</td>\n",
       "      <td>...</td>\n",
       "      <td>3</td>\n",
       "      <td>3</td>\n",
       "      <td>0</td>\n",
       "      <td>-16.0</td>\n",
       "      <td>2449</td>\n",
       "      <td>0</td>\n",
       "      <td>4</td>\n",
       "      <td>1974</td>\n",
       "      <td>3</td>\n",
       "      <td>63</td>\n",
       "    </tr>\n",
       "  </tbody>\n",
       "</table>\n",
       "<p>5 rows × 109 columns</p>\n",
       "</div>"
      ],
      "text/plain": [
       "   match_id  start_time  lobby_type  r1_hero  r1_level  r1_xp  r1_gold  r1_lh  \\\n",
       "0         0  1430198770           7       11         5   2098     1489     20   \n",
       "1         1  1430220345           0       42         4   1188     1033      9   \n",
       "2         2  1430227081           7       33         4   1319     1270     22   \n",
       "3         3  1430263531           1       29         4   1779     1056     14   \n",
       "4         4  1430282290           7       13         4   1431     1090      8   \n",
       "\n",
       "   r1_kills  r1_deaths  ...  dire_boots_count  dire_ward_observer_count  \\\n",
       "0         0          0  ...                 4                         2   \n",
       "1         0          1  ...                 4                         3   \n",
       "2         0          0  ...                 4                         3   \n",
       "3         0          0  ...                 4                         2   \n",
       "4         1          0  ...                 3                         3   \n",
       "\n",
       "   dire_ward_sentry_count  dire_first_ward_time  duration  radiant_win  \\\n",
       "0                       2                 -52.0      2874            1   \n",
       "1                       1                  -5.0      2463            1   \n",
       "2                       1                  13.0      2130            0   \n",
       "3                       0                  27.0      1459            0   \n",
       "4                       0                 -16.0      2449            0   \n",
       "\n",
       "   tower_status_radiant  tower_status_dire  barracks_status_radiant  \\\n",
       "0                  1796                  0                       51   \n",
       "1                  1974                  0                       63   \n",
       "2                     0               1830                        0   \n",
       "3                  1920               2047                       50   \n",
       "4                     4               1974                        3   \n",
       "\n",
       "   barracks_status_dire  \n",
       "0                     0  \n",
       "1                     1  \n",
       "2                    63  \n",
       "3                    63  \n",
       "4                    63  \n",
       "\n",
       "[5 rows x 109 columns]"
      ]
     },
     "execution_count": 323,
     "metadata": {},
     "output_type": "execute_result"
    }
   ],
   "source": [
    "df.head()"
   ]
  },
  {
   "cell_type": "code",
   "execution_count": 324,
   "metadata": {},
   "outputs": [],
   "source": [
    "a = df.count().tolist()\n",
    "value = len(df)\n",
    "a = [True if i!=value else False for i in a]\n",
    "cols_with_empty_values = df.columns[a].tolist()"
   ]
  },
  {
   "cell_type": "markdown",
   "metadata": {},
   "source": [
    "####  1.1a Набор признаков, содержащих пропущенные значения"
   ]
  },
  {
   "cell_type": "code",
   "execution_count": 325,
   "metadata": {},
   "outputs": [
    {
     "data": {
      "text/plain": [
       "['first_blood_time',\n",
       " 'first_blood_team',\n",
       " 'first_blood_player1',\n",
       " 'first_blood_player2',\n",
       " 'radiant_bottle_time',\n",
       " 'radiant_courier_time',\n",
       " 'radiant_flying_courier_time',\n",
       " 'radiant_first_ward_time',\n",
       " 'dire_bottle_time',\n",
       " 'dire_courier_time',\n",
       " 'dire_flying_courier_time',\n",
       " 'dire_first_ward_time']"
      ]
     },
     "execution_count": 325,
     "metadata": {},
     "output_type": "execute_result"
    }
   ],
   "source": [
    "cols_with_empty_values"
   ]
  },
  {
   "cell_type": "code",
   "execution_count": 326,
   "metadata": {},
   "outputs": [],
   "source": [
    "#df = df.fillna(0)\n",
    "df.fillna(df.mean(), inplace=True)"
   ]
  },
  {
   "cell_type": "markdown",
   "metadata": {},
   "source": [
    "### Gradient-boosting Classifier"
   ]
  },
  {
   "cell_type": "markdown",
   "metadata": {},
   "source": [
    "Задача классификации, потому в первой части используем GBC с scikit-learn."
   ]
  },
  {
   "cell_type": "code",
   "execution_count": 327,
   "metadata": {},
   "outputs": [],
   "source": [
    "def diff(first, second):\n",
    "        second = set(second)\n",
    "        return [item for item in first if item not in second]"
   ]
  },
  {
   "cell_type": "code",
   "execution_count": 328,
   "metadata": {},
   "outputs": [],
   "source": [
    "a = df.columns.tolist()\n",
    "res_features = ['radiant_win', 'duration', 'tower_status_radiant', 'tower_status_dire','barracks_status_radiant','barracks_status_dire']\n",
    "a = diff(a,res_features)\n",
    "X = df[a].to_numpy()\n",
    "y = df['radiant_win'].to_numpy()"
   ]
  },
  {
   "cell_type": "code",
   "execution_count": 329,
   "metadata": {},
   "outputs": [],
   "source": [
    "scores = []\n",
    "kf = KFold(n_splits=5,shuffle=True)\n",
    "start_time = time.time()\n",
    "for train_index, test_index in kf.split(X):\n",
    "    X_train, X_test = X[train_index], X[test_index]\n",
    "    y_train, y_test = y[train_index], y[test_index]\n",
    "    clf = GradientBoostingClassifier(n_estimators=30, verbose=False, learning_rate=0.1,random_state=1)\n",
    "    clf.fit(X_train, y_train)\n",
    "    clf.score(X_train, y_train)\n",
    "    pred = clf.predict_proba(X_test)[:, 1]\n",
    "    scores.append(roc_auc_score(y_test, pred))\n",
    "cross_time = time.time() - start_time "
   ]
  },
  {
   "cell_type": "code",
   "execution_count": 330,
   "metadata": {},
   "outputs": [
    {
     "data": {
      "text/plain": [
       "[0.6783935187743896,\n",
       " 0.6808787229841958,\n",
       " 0.6837247466748724,\n",
       " 0.684553602774664,\n",
       " 0.6857374053710907,\n",
       " 0.6870807746043534,\n",
       " 0.6875346634284734]"
      ]
     },
     "execution_count": 330,
     "metadata": {},
     "output_type": "execute_result"
    }
   ],
   "source": [
    "scores_different = []\n",
    "scrs = []\n",
    "\n",
    "\n",
    "for est in [20,25,30,35,40,45,50]:\n",
    "    ind_subset = np.random.choice(97230, 20000, replace=False)\n",
    "    sub_x = X[ind_subset]\n",
    "    sub_y = y[ind_subset]\n",
    "    kf = KFold(n_splits=5,shuffle=True)\n",
    "    for train_index, test_index in kf.split(sub_x):\n",
    "        X_train, X_test = sub_x[train_index], sub_x[test_index]\n",
    "        y_train, y_test = sub_y[train_index], sub_y[test_index]\n",
    "        clf = GradientBoostingClassifier(n_estimators=est, verbose=False, learning_rate=0.1,random_state=1)\n",
    "        clf.fit(X_train, y_train)\n",
    "        clf.score(X_train, y_train)\n",
    "        pred = clf.predict_proba(X_test)[:, 1]\n",
    "        scrs.append(roc_auc_score(y_test, pred))\n",
    "    scores_different.append(np.mean(scrs))\n",
    "scores_different\n"
   ]
  },
  {
   "cell_type": "markdown",
   "metadata": {},
   "source": [
    "#### AUC-ROC score after cross-validation"
   ]
  },
  {
   "cell_type": "code",
   "execution_count": 331,
   "metadata": {},
   "outputs": [
    {
     "data": {
      "text/plain": [
       "0.68914348482888"
      ]
     },
     "execution_count": 331,
     "metadata": {},
     "output_type": "execute_result"
    }
   ],
   "source": [
    "np.mean(scores)"
   ]
  },
  {
   "cell_type": "markdown",
   "metadata": {},
   "source": [
    "#### Cross-validation GBC time(sec)"
   ]
  },
  {
   "cell_type": "code",
   "execution_count": 332,
   "metadata": {},
   "outputs": [
    {
     "data": {
      "text/plain": [
       "313.8"
      ]
     },
     "execution_count": 332,
     "metadata": {},
     "output_type": "execute_result"
    }
   ],
   "source": [
    "round(cross_time,2)"
   ]
  },
  {
   "cell_type": "markdown",
   "metadata": {},
   "source": [
    "### Logistic Regression"
   ]
  },
  {
   "cell_type": "code",
   "execution_count": 333,
   "metadata": {},
   "outputs": [
    {
     "data": {
      "text/html": [
       "<div>\n",
       "<style scoped>\n",
       "    .dataframe tbody tr th:only-of-type {\n",
       "        vertical-align: middle;\n",
       "    }\n",
       "\n",
       "    .dataframe tbody tr th {\n",
       "        vertical-align: top;\n",
       "    }\n",
       "\n",
       "    .dataframe thead th {\n",
       "        text-align: right;\n",
       "    }\n",
       "</style>\n",
       "<table border=\"1\" class=\"dataframe\">\n",
       "  <thead>\n",
       "    <tr style=\"text-align: right;\">\n",
       "      <th></th>\n",
       "      <th>match_id</th>\n",
       "      <th>start_time</th>\n",
       "      <th>lobby_type</th>\n",
       "      <th>r1_hero</th>\n",
       "      <th>r1_level</th>\n",
       "      <th>r1_xp</th>\n",
       "      <th>r1_gold</th>\n",
       "      <th>r1_lh</th>\n",
       "      <th>r1_kills</th>\n",
       "      <th>r1_deaths</th>\n",
       "      <th>...</th>\n",
       "      <th>dire_boots_count</th>\n",
       "      <th>dire_ward_observer_count</th>\n",
       "      <th>dire_ward_sentry_count</th>\n",
       "      <th>dire_first_ward_time</th>\n",
       "      <th>duration</th>\n",
       "      <th>radiant_win</th>\n",
       "      <th>tower_status_radiant</th>\n",
       "      <th>tower_status_dire</th>\n",
       "      <th>barracks_status_radiant</th>\n",
       "      <th>barracks_status_dire</th>\n",
       "    </tr>\n",
       "  </thead>\n",
       "  <tbody>\n",
       "    <tr>\n",
       "      <th>0</th>\n",
       "      <td>0</td>\n",
       "      <td>1430198770</td>\n",
       "      <td>7</td>\n",
       "      <td>11</td>\n",
       "      <td>5</td>\n",
       "      <td>2098</td>\n",
       "      <td>1489</td>\n",
       "      <td>20</td>\n",
       "      <td>0</td>\n",
       "      <td>0</td>\n",
       "      <td>...</td>\n",
       "      <td>4</td>\n",
       "      <td>2</td>\n",
       "      <td>2</td>\n",
       "      <td>-52.0</td>\n",
       "      <td>2874</td>\n",
       "      <td>1</td>\n",
       "      <td>1796</td>\n",
       "      <td>0</td>\n",
       "      <td>51</td>\n",
       "      <td>0</td>\n",
       "    </tr>\n",
       "    <tr>\n",
       "      <th>1</th>\n",
       "      <td>1</td>\n",
       "      <td>1430220345</td>\n",
       "      <td>0</td>\n",
       "      <td>42</td>\n",
       "      <td>4</td>\n",
       "      <td>1188</td>\n",
       "      <td>1033</td>\n",
       "      <td>9</td>\n",
       "      <td>0</td>\n",
       "      <td>1</td>\n",
       "      <td>...</td>\n",
       "      <td>4</td>\n",
       "      <td>3</td>\n",
       "      <td>1</td>\n",
       "      <td>-5.0</td>\n",
       "      <td>2463</td>\n",
       "      <td>1</td>\n",
       "      <td>1974</td>\n",
       "      <td>0</td>\n",
       "      <td>63</td>\n",
       "      <td>1</td>\n",
       "    </tr>\n",
       "    <tr>\n",
       "      <th>2</th>\n",
       "      <td>2</td>\n",
       "      <td>1430227081</td>\n",
       "      <td>7</td>\n",
       "      <td>33</td>\n",
       "      <td>4</td>\n",
       "      <td>1319</td>\n",
       "      <td>1270</td>\n",
       "      <td>22</td>\n",
       "      <td>0</td>\n",
       "      <td>0</td>\n",
       "      <td>...</td>\n",
       "      <td>4</td>\n",
       "      <td>3</td>\n",
       "      <td>1</td>\n",
       "      <td>13.0</td>\n",
       "      <td>2130</td>\n",
       "      <td>0</td>\n",
       "      <td>0</td>\n",
       "      <td>1830</td>\n",
       "      <td>0</td>\n",
       "      <td>63</td>\n",
       "    </tr>\n",
       "    <tr>\n",
       "      <th>3</th>\n",
       "      <td>3</td>\n",
       "      <td>1430263531</td>\n",
       "      <td>1</td>\n",
       "      <td>29</td>\n",
       "      <td>4</td>\n",
       "      <td>1779</td>\n",
       "      <td>1056</td>\n",
       "      <td>14</td>\n",
       "      <td>0</td>\n",
       "      <td>0</td>\n",
       "      <td>...</td>\n",
       "      <td>4</td>\n",
       "      <td>2</td>\n",
       "      <td>0</td>\n",
       "      <td>27.0</td>\n",
       "      <td>1459</td>\n",
       "      <td>0</td>\n",
       "      <td>1920</td>\n",
       "      <td>2047</td>\n",
       "      <td>50</td>\n",
       "      <td>63</td>\n",
       "    </tr>\n",
       "    <tr>\n",
       "      <th>4</th>\n",
       "      <td>4</td>\n",
       "      <td>1430282290</td>\n",
       "      <td>7</td>\n",
       "      <td>13</td>\n",
       "      <td>4</td>\n",
       "      <td>1431</td>\n",
       "      <td>1090</td>\n",
       "      <td>8</td>\n",
       "      <td>1</td>\n",
       "      <td>0</td>\n",
       "      <td>...</td>\n",
       "      <td>3</td>\n",
       "      <td>3</td>\n",
       "      <td>0</td>\n",
       "      <td>-16.0</td>\n",
       "      <td>2449</td>\n",
       "      <td>0</td>\n",
       "      <td>4</td>\n",
       "      <td>1974</td>\n",
       "      <td>3</td>\n",
       "      <td>63</td>\n",
       "    </tr>\n",
       "  </tbody>\n",
       "</table>\n",
       "<p>5 rows × 109 columns</p>\n",
       "</div>"
      ],
      "text/plain": [
       "   match_id  start_time  lobby_type  r1_hero  r1_level  r1_xp  r1_gold  r1_lh  \\\n",
       "0         0  1430198770           7       11         5   2098     1489     20   \n",
       "1         1  1430220345           0       42         4   1188     1033      9   \n",
       "2         2  1430227081           7       33         4   1319     1270     22   \n",
       "3         3  1430263531           1       29         4   1779     1056     14   \n",
       "4         4  1430282290           7       13         4   1431     1090      8   \n",
       "\n",
       "   r1_kills  r1_deaths  ...  dire_boots_count  dire_ward_observer_count  \\\n",
       "0         0          0  ...                 4                         2   \n",
       "1         0          1  ...                 4                         3   \n",
       "2         0          0  ...                 4                         3   \n",
       "3         0          0  ...                 4                         2   \n",
       "4         1          0  ...                 3                         3   \n",
       "\n",
       "   dire_ward_sentry_count  dire_first_ward_time  duration  radiant_win  \\\n",
       "0                       2                 -52.0      2874            1   \n",
       "1                       1                  -5.0      2463            1   \n",
       "2                       1                  13.0      2130            0   \n",
       "3                       0                  27.0      1459            0   \n",
       "4                       0                 -16.0      2449            0   \n",
       "\n",
       "   tower_status_radiant  tower_status_dire  barracks_status_radiant  \\\n",
       "0                  1796                  0                       51   \n",
       "1                  1974                  0                       63   \n",
       "2                     0               1830                        0   \n",
       "3                  1920               2047                       50   \n",
       "4                     4               1974                        3   \n",
       "\n",
       "   barracks_status_dire  \n",
       "0                     0  \n",
       "1                     1  \n",
       "2                    63  \n",
       "3                    63  \n",
       "4                    63  \n",
       "\n",
       "[5 rows x 109 columns]"
      ]
     },
     "execution_count": 333,
     "metadata": {},
     "output_type": "execute_result"
    }
   ],
   "source": [
    "df.head()"
   ]
  },
  {
   "cell_type": "code",
   "execution_count": 334,
   "metadata": {},
   "outputs": [],
   "source": [
    "a = df.count().tolist()\n",
    "value = len(df)\n",
    "a = [True if i!=value else False for i in a]\n",
    "cols_with_empty_values = df.columns[a].tolist()"
   ]
  },
  {
   "cell_type": "code",
   "execution_count": 335,
   "metadata": {},
   "outputs": [],
   "source": [
    "df.fillna(df.mean(), inplace=True)"
   ]
  },
  {
   "cell_type": "code",
   "execution_count": 336,
   "metadata": {},
   "outputs": [],
   "source": [
    "a = df.columns.tolist()\n",
    "res_features = ['radiant_win', 'duration', 'tower_status_radiant', 'tower_status_dire','barracks_status_radiant','barracks_status_dire']\n",
    "b = diff(a,res_features)\n",
    "X = df[b].to_numpy()\n",
    "y = df['radiant_win'].to_numpy()"
   ]
  },
  {
   "cell_type": "code",
   "execution_count": 337,
   "metadata": {},
   "outputs": [],
   "source": [
    "def get_auc_score_cross_val(name, X, y, C, random_state, kf):\n",
    "    \"\"\"\n",
    "    name: name of classifier\n",
    "    kf: Kfold\n",
    "    return : cross-validation score\n",
    "    \"\"\"\n",
    "    scores = []\n",
    "    for train_index, test_index in kf.split(X):   \n",
    "        X_train, X_test = X[train_index], X[test_index]\n",
    "        y_train, y_test = y[train_index], y[test_index]\n",
    "        #fitting 1\n",
    "        #clf = eval(name+'(random_state=random_state, C=C)')\n",
    "        clf = LogisticRegression(random_state=random_state, C=C)\n",
    "        clf.fit(X_train, y_train)\n",
    "        clf.score(X_train, y_train)\n",
    "        pred = clf.predict_proba(X_test)[:, 1]\n",
    "        scores.append(roc_auc_score(y_test, pred))\n",
    "    return scores"
   ]
  },
  {
   "cell_type": "code",
   "execution_count": 338,
   "metadata": {},
   "outputs": [
    {
     "name": "stdout",
     "output_type": "stream",
     "text": [
      "0.01\n"
     ]
    }
   ],
   "source": [
    "#tuning c\n",
    "\n",
    "C_param_range = [0.001,0.01,0.1,1,10,100,1000]\n",
    "mx = 0\n",
    "kf = KFold(n_splits=5, shuffle=True,random_state=1)\n",
    "sc = StandardScaler()\n",
    "X_std=sc.fit_transform(X)\n",
    "for c in C_param_range:\n",
    "    scores = get_auc_score_cross_val(name = 'LogisticRegression', X=X_std, y=y, C=c, random_state=1,kf=kf)\n",
    "    res = np.mean(scores)\n",
    "    if res > mx:\n",
    "        mx=res\n",
    "        best = c\n",
    "print(best)"
   ]
  },
  {
   "cell_type": "code",
   "execution_count": 339,
   "metadata": {},
   "outputs": [],
   "source": [
    "kf = KFold(n_splits=5, shuffle=True, random_state=1)\n",
    "start_time = time.time()\n",
    "scores = get_auc_score_cross_val(name = 'LogisticRegression', X=X, y=y, C=best, random_state=1,kf=kf)\n",
    "cross_time = time.time() - start_time \n",
    "\n",
    "start_time = time.time()\n",
    "sc = StandardScaler()\n",
    "X_std=sc.fit_transform(X)\n",
    "scores_std = get_auc_score_cross_val(name = 'LogisticRegression', X=X_std, y=y, C=best, random_state=1,kf=kf)\n",
    "cross_time_std = time.time() - start_time \n"
   ]
  },
  {
   "cell_type": "code",
   "execution_count": 340,
   "metadata": {},
   "outputs": [
    {
     "name": "stdout",
     "output_type": "stream",
     "text": [
      "auc_no_std: 0.5134743391867588\n",
      "auc_std: 0.7168148415254104\n",
      "time_no_std 2.72\n"
     ]
    }
   ],
   "source": [
    "print('auc_no_std:', np.mean(scores))\n",
    "print('auc_std:', np.mean(scores_std))\n",
    "print('time_no_std',round(cross_time,2))"
   ]
  },
  {
   "cell_type": "markdown",
   "metadata": {},
   "source": [
    "#### 2"
   ]
  },
  {
   "cell_type": "code",
   "execution_count": 341,
   "metadata": {},
   "outputs": [],
   "source": [
    "categ_features = ['lobby_type', 'r1_hero', 'r2_hero', 'r3_hero', 'r4_hero', 'r5_hero',\n",
    "                  'd1_hero', 'd2_hero', 'd3_hero', 'd4_hero', 'd5_hero']\n",
    "res_features = ['radiant_win', 'duration', 'tower_status_radiant', 'tower_status_dire',\n",
    "                'barracks_status_radiant','barracks_status_dire']"
   ]
  },
  {
   "cell_type": "code",
   "execution_count": 342,
   "metadata": {},
   "outputs": [],
   "source": [
    "features_to_delete = categ_features+res_features"
   ]
  },
  {
   "cell_type": "code",
   "execution_count": 343,
   "metadata": {},
   "outputs": [],
   "source": [
    "b = diff(a, features_to_delete)\n",
    "X = df[b].to_numpy()\n",
    "y = df['radiant_win'].to_numpy()"
   ]
  },
  {
   "cell_type": "code",
   "execution_count": 344,
   "metadata": {},
   "outputs": [
    {
     "name": "stdout",
     "output_type": "stream",
     "text": [
      "0.01\n"
     ]
    }
   ],
   "source": [
    "C_param_range = [0.001,0.01,0.1,1,10,100,1000]\n",
    "\n",
    "kf = KFold(n_splits=5, shuffle=True,random_state=1)\n",
    "mx = 0\n",
    "scores = []\n",
    "sc = StandardScaler()\n",
    "X_std=sc.fit_transform(X)\n",
    "for c in C_param_range:\n",
    "    scores = get_auc_score_cross_val(name = 'LogisticRegression', X=X_std, y=y, C=c, random_state=1,kf=kf)\n",
    "    res = np.mean(scores)\n",
    "    if res > mx:\n",
    "        mx=res\n",
    "        best = c\n",
    "print(best)\n",
    "scores=[]"
   ]
  },
  {
   "cell_type": "code",
   "execution_count": 345,
   "metadata": {},
   "outputs": [],
   "source": [
    "kf = KFold(n_splits=5, shuffle=True, random_state=1)\n",
    "start_time = time.time()\n",
    "scores = get_auc_score_cross_val(name = 'LogisticRegression', X=X, y=y, C=best, random_state=1,kf=kf)\n",
    "cross_time = time.time() - start_time \n",
    "\n",
    "start_time = time.time()\n",
    "sc = StandardScaler()\n",
    "X_std=sc.fit_transform(X)\n",
    "scores_std = get_auc_score_cross_val(name = 'LogisticRegression', X=X_std, y=y, C=best, random_state=1,kf=kf)\n",
    "cross_time_std = time.time() - start_time "
   ]
  },
  {
   "cell_type": "code",
   "execution_count": 346,
   "metadata": {},
   "outputs": [
    {
     "name": "stdout",
     "output_type": "stream",
     "text": [
      "auc_no_std_no_cat: 0.5134743391867588\n",
      "auc_std_no_cat: 0.7168660688991333\n",
      "time_no_std_no_cat 2.35\n"
     ]
    }
   ],
   "source": [
    "print('auc_no_std_no_cat:', np.mean(scores))\n",
    "print('auc_std_no_cat:', np.mean(scores_std))\n",
    "print('time_no_std_no_cat',round(cross_time,2))"
   ]
  },
  {
   "cell_type": "markdown",
   "metadata": {},
   "source": [
    "#### 3\n"
   ]
  },
  {
   "cell_type": "code",
   "execution_count": 347,
   "metadata": {},
   "outputs": [],
   "source": [
    "heroes = categ_features[1:]"
   ]
  },
  {
   "cell_type": "markdown",
   "metadata": {},
   "source": [
    "#bag-of-words, code by me\n",
    "\"\"\"\n",
    "h_df = df[heroes]\n",
    "values = np.unique(h_df.to_numpy())\n",
    "N = max(values)\n",
    "r_df = h_df[h_df.columns.tolist()[0:5]]\n",
    "d_df = h_df[h_df.columns.tolist()[5:]]\n",
    "df.shape[0]\n",
    "\n",
    "#no 24, 107,108,109\n",
    "\n",
    "X_pick = np.zeros((df.shape[0], N))\n",
    "\n",
    "for i in range(0, df.shape[0]):\n",
    "    r1_heroes = list(r_df.loc[i])\n",
    "    d1_heroes = list(d_df.loc[i])\n",
    "    for r in r1_heroes:\n",
    "        X_pick[i,r-1]=1\n",
    "    for d in d1_heroes:\n",
    "        X_pick[i,d-1] = -1\n",
    "\"\"\"\n"
   ]
  },
  {
   "cell_type": "code",
   "execution_count": 348,
   "metadata": {},
   "outputs": [],
   "source": [
    "values = np.unique(h_df.to_numpy())\n",
    "X_pick = np.zeros((df.shape[0], N))\n",
    "\n",
    "for i, match_id in enumerate(df.index):\n",
    "    for p in range(5):\n",
    "        X_pick[i, df.loc[match_id, 'r%d_hero' % (p+1)]-1] = 1\n",
    "        X_pick[i, df.loc[match_id, 'd%d_hero' % (p+1)]-1] = -1"
   ]
  },
  {
   "cell_type": "code",
   "execution_count": 349,
   "metadata": {},
   "outputs": [
    {
     "data": {
      "text/plain": [
       "array([[ 0.,  0.,  0., ...,  0.,  0.,  0.],\n",
       "       [ 0.,  0.,  0., ...,  0.,  0.,  0.],\n",
       "       [ 0.,  0.,  0., ...,  0.,  0.,  0.],\n",
       "       ...,\n",
       "       [ 0.,  0.,  0., ...,  0.,  0.,  1.],\n",
       "       [ 0.,  0.,  0., ...,  0.,  0.,  0.],\n",
       "       [ 0.,  0.,  0., ...,  0.,  0., -1.]])"
      ]
     },
     "execution_count": 349,
     "metadata": {},
     "output_type": "execute_result"
    }
   ],
   "source": [
    "X_pick"
   ]
  },
  {
   "cell_type": "markdown",
   "metadata": {},
   "source": [
    "#### 4"
   ]
  },
  {
   "cell_type": "code",
   "execution_count": 350,
   "metadata": {},
   "outputs": [],
   "source": [
    "categ_features = ['lobby_type', 'r1_hero', 'r2_hero', 'r3_hero', 'r4_hero', 'r5_hero',\n",
    "                  'd1_hero', 'd2_hero', 'd3_hero', 'd4_hero', 'd5_hero']\n",
    "res_features = ['radiant_win', 'duration', 'tower_status_radiant', 'tower_status_dire',\n",
    "                'barracks_status_radiant','barracks_status_dire']"
   ]
  },
  {
   "cell_type": "code",
   "execution_count": 351,
   "metadata": {},
   "outputs": [],
   "source": [
    "features_to_delete = categ_features+res_features"
   ]
  },
  {
   "cell_type": "code",
   "execution_count": 352,
   "metadata": {},
   "outputs": [],
   "source": [
    "a = diff(a,features_to_delete)\n",
    "X = df[a].to_numpy()\n",
    "y = df['radiant_win'].to_numpy()"
   ]
  },
  {
   "cell_type": "code",
   "execution_count": 353,
   "metadata": {},
   "outputs": [],
   "source": [
    "X = np.concatenate((X, X_pick), axis=1)"
   ]
  },
  {
   "cell_type": "code",
   "execution_count": 354,
   "metadata": {},
   "outputs": [
    {
     "name": "stdout",
     "output_type": "stream",
     "text": [
      "0.01\n"
     ]
    }
   ],
   "source": [
    "C_param_range = [0.001,0.01,0.1,1,10,100,1000]\n",
    "mx = 0\n",
    "kf = KFold(n_splits=5, shuffle=True,random_state=1)\n",
    "sc = StandardScaler()\n",
    "X_std=sc.fit_transform(X)\n",
    "for c in C_param_range:\n",
    "    scores = get_auc_score_cross_val(name = 'LogisticRegression', X=X_std, y=y, C=c, random_state=1,kf=kf)\n",
    "    res = np.mean(scores)\n",
    "    if res > mx:\n",
    "        mx=res\n",
    "        best = c\n",
    "print(best)"
   ]
  },
  {
   "cell_type": "code",
   "execution_count": 355,
   "metadata": {},
   "outputs": [],
   "source": [
    "kf = KFold(n_splits=5, shuffle=True, random_state=1)\n",
    "start_time = time.time()\n",
    "scores = get_auc_score_cross_val(name = 'LogisticRegression', X=X, y=y, C=best, random_state=1,kf=kf)\n",
    "cross_time = time.time() - start_time \n",
    "\n",
    "start_time = time.time()\n",
    "sc = StandardScaler()\n",
    "X_std=sc.fit_transform(X)\n",
    "scores_std = get_auc_score_cross_val(name = 'LogisticRegression', X=X_std, y=y, C=best, random_state=1,kf=kf)\n",
    "cross_time_std = time.time() - start_time "
   ]
  },
  {
   "cell_type": "code",
   "execution_count": 356,
   "metadata": {},
   "outputs": [
    {
     "name": "stdout",
     "output_type": "stream",
     "text": [
      "auc_no_std_no_cat: 0.5134743391867588\n",
      "auc_std_no_cat: 0.7520233082079777\n",
      "time_no_std_no_cat 4.93\n"
     ]
    }
   ],
   "source": [
    "print('auc_no_std_no_cat:', np.mean(scores))\n",
    "print('auc_std_no_cat:', np.mean(scores_std))\n",
    "print('time_no_std_no_cat',round(cross_time,2))"
   ]
  },
  {
   "cell_type": "markdown",
   "metadata": {},
   "source": [
    "#### 6"
   ]
  },
  {
   "cell_type": "code",
   "execution_count": 357,
   "metadata": {},
   "outputs": [],
   "source": [
    "X_train, X_test, y_train, y_test = train_test_split(X_std, y, test_size=0.8, random_state=1)"
   ]
  },
  {
   "cell_type": "code",
   "execution_count": 358,
   "metadata": {},
   "outputs": [],
   "source": [
    "clf = LogisticRegression(C=best, random_state=1).fit(X_train,y_train)"
   ]
  },
  {
   "cell_type": "code",
   "execution_count": 359,
   "metadata": {},
   "outputs": [
    {
     "data": {
      "text/plain": [
       "array([[0.28197557, 1.        ],\n",
       "       [0.49844561, 1.        ],\n",
       "       [0.78008678, 1.        ],\n",
       "       ...,\n",
       "       [0.70133527, 1.        ],\n",
       "       [0.38911061, 1.        ],\n",
       "       [0.24289484, 0.        ]])"
      ]
     },
     "execution_count": 359,
     "metadata": {},
     "output_type": "execute_result"
    }
   ],
   "source": [
    "pred = clf.predict_proba(X_test)[:, 1]\n",
    "pred_matrix = np.zeros((len(pred),2))\n",
    "pred_matrix[:,0] = pred\n",
    "pred_matrix[:,1] = y_test\n",
    "pred_matrix"
   ]
  },
  {
   "cell_type": "code",
   "execution_count": 360,
   "metadata": {},
   "outputs": [
    {
     "name": "stdout",
     "output_type": "stream",
     "text": [
      "min: 0.001 \n",
      "max: 0.999\n"
     ]
    }
   ],
   "source": [
    "print('min:',round(min(pred),3),'\\nmax:',round(max(pred),3))"
   ]
  },
  {
   "cell_type": "code",
   "execution_count": 361,
   "metadata": {},
   "outputs": [
    {
     "data": {
      "text/plain": [
       "0.75"
      ]
     },
     "execution_count": 361,
     "metadata": {},
     "output_type": "execute_result"
    }
   ],
   "source": [
    "round(roc_auc_score(y_test, pred),2)"
   ]
  },
  {
   "cell_type": "markdown",
   "metadata": {},
   "source": [
    "# Отчет"
   ]
  },
  {
   "cell_type": "markdown",
   "metadata": {},
   "source": [
    "### Градиентный бустинг"
   ]
  },
  {
   "cell_type": "markdown",
   "metadata": {},
   "source": [
    "####  1.1a Набор признаков, содержащих пропущенные значения"
   ]
  },
  {
   "cell_type": "markdown",
   "metadata": {},
   "source": [
    "['first_blood_time',\n",
    " 'first_blood_team',\n",
    " 'first_blood_player1',\n",
    " 'first_blood_player2',\n",
    " 'radiant_bottle_time',\n",
    " 'radiant_courier_time',\n",
    " 'radiant_flying_courier_time',\n",
    " 'radiant_first_ward_time',\n",
    " 'dire_bottle_time',\n",
    " 'dire_courier_time',\n",
    " 'dire_flying_courier_time',\n",
    " 'dire_first_ward_time']"
   ]
  },
  {
   "cell_type": "markdown",
   "metadata": {},
   "source": [
    "#### 1.1b Что могут означать пропуски в этих данных\n",
    "- 'radiant_flying_courier_time' - этот признак может иметь пропущенное значение, если предмет 'flying_courier' не был приобретен командой radiant до окончания матча. \n",
    "\n",
    "- 'radiant_first_ward_time' - аналогично предмету 'flying_courier_time' можеть иметь ппропущенное значение, если вард не был поставлен командой radiant до окончания матча."
   ]
  },
  {
   "cell_type": "markdown",
   "metadata": {},
   "source": [
    "#### 2. Целевая переменная - \"radiant_win\""
   ]
  },
  {
   "cell_type": "markdown",
   "metadata": {},
   "source": [
    "#### 3-4. Градиентный бустинг и ускорение его тренировки\n",
    " Кросс-валидация для градиентного бустинга с 30 деревьями проводилась 273.64 сек. Среднее(после кросс-валидации) качество - 0.69. Потом попробовал потренировать модель для [20,25,30,35,40,45,50] деревьев. \n",
    "\n",
    " После 30 деревьев качество растет незначительно, тогда как время тренировки - значительно. В большинстве случаев, пожалуй, не имеет смысла использовать больше деревьев. \n",
    "\n",
    " Для ускорения тренировки такого количества классификаторов было использовано случайные подмножества длиной 20к. Так же для ускорения работы можно использовать спецификацию параметра \"max_depth\" ограничивая максимальную глубину деревьев."
   ]
  },
  {
   "cell_type": "markdown",
   "metadata": {},
   "source": [
    "### Логистическая регрессия"
   ]
  },
  {
   "cell_type": "markdown",
   "metadata": {},
   "source": [
    "#### 1. Оценка качества логистической регрессии без подготовки данных и сравнение с GBC\n",
    "Качество логистической регрессии 0.513, скорость работы намного выше - 2.18 сек. Такое низкое качество можно объяснить тем, что без стандартизации данных линейная модель сильно переобучается.Использовав стандартизацию получим качество 0.71.Стоит заметить что без стандартизации классификатор работает очень плохо, потому в дальнейшем везде использовалась стандартизация. "
   ]
  },
  {
   "cell_type": "markdown",
   "metadata": {},
   "source": [
    "#### 2. Удаление категориальных признаков\n",
    "После удаления категориальных признаков почти ничего не изменилось. Объяснить это можно тем, что импользуя категориальные признаки как числовые классификатор не получает никакой полезной информации.Эти признаки в таком виде скорее выступают как шумы."
   ]
  },
  {
   "cell_type": "markdown",
   "metadata": {},
   "source": [
    "#### 3. Герои\n",
    "Количество различных героев 112, но герои 24, 107,108,109 никогда не использовались исходя из этих данных"
   ]
  },
  {
   "cell_type": "markdown",
   "metadata": {},
   "source": [
    "#### 4.Мешок слов\n",
    "Добавление мешка слов улучшило качество. Было получено качество 0.75. Объясняется это тем, что правильный учет категориальных признаков помог улучшить качество, так как добавил полезной информации для классификатора"
   ]
  },
  {
   "cell_type": "markdown",
   "metadata": {},
   "source": [
    "#### Прогнозы\n",
    "    - min: 0.001 \n",
    "    - max: 0.999"
   ]
  }
 ],
 "metadata": {
  "kernelspec": {
   "display_name": "Python 3",
   "language": "python",
   "name": "python3"
  },
  "language_info": {
   "codemirror_mode": {
    "name": "ipython",
    "version": 3
   },
   "file_extension": ".py",
   "mimetype": "text/x-python",
   "name": "python",
   "nbconvert_exporter": "python",
   "pygments_lexer": "ipython3",
   "version": "3.7.4"
  }
 },
 "nbformat": 4,
 "nbformat_minor": 2
}
