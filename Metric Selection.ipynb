{
 "cells": [
  {
   "cell_type": "code",
   "execution_count": 26,
   "metadata": {},
   "outputs": [],
   "source": [
    "from sklearn import datasets\n",
    "from sklearn.preprocessing import scale\n",
    "from sklearn.neighbors import KNeighborsRegressor\n",
    "from sklearn.model_selection import cross_val_score\n",
    "from numpy import linspace,mean,inf\n",
    "from sklearn.model_selection import KFold\n",
    "from sklearn.model_selection import cross_val_score"
   ]
  },
  {
   "cell_type": "code",
   "execution_count": 20,
   "metadata": {},
   "outputs": [],
   "source": [
    "df = datasets.load_boston()\n",
    "X = scale(df['data'])\n",
    "y = df['target']\n",
    "kf = KFold(n_splits=5, shuffle=True, random_state=42)"
   ]
  },
  {
   "cell_type": "code",
   "execution_count": 28,
   "metadata": {},
   "outputs": [
    {
     "name": "stdout",
     "output_type": "stream",
     "text": [
      "-16.030646734221644\n",
      "1.0\n"
     ]
    }
   ],
   "source": [
    "final_score = -inf\n",
    "final_ptr = 0 \n",
    "for i in linspace(1,10,200):\n",
    "    neigh = KNeighborsRegressor(n_neighbors=5 , weights='distance', p=i)\n",
    "    model = neigh.fit(X, y)\n",
    "    cur_score = mean(cross_val_score(model, X, y, cv=kf,  scoring='neg_mean_squared_error'))\n",
    "    if cur_score > final_score:\n",
    "        final_score = cur_score\n",
    "        final_ptr = i\n",
    "print(final_score)\n",
    "print(final_ptr)\n",
    "    "
   ]
  }
 ],
 "metadata": {
  "kernelspec": {
   "display_name": "Python 3",
   "language": "python",
   "name": "python3"
  },
  "language_info": {
   "codemirror_mode": {
    "name": "ipython",
    "version": 3
   },
   "file_extension": ".py",
   "mimetype": "text/x-python",
   "name": "python",
   "nbconvert_exporter": "python",
   "pygments_lexer": "ipython3",
   "version": "3.7.4"
  }
 },
 "nbformat": 4,
 "nbformat_minor": 2
}
